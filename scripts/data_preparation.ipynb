{
 "cells": [
  {
   "cell_type": "code",
   "execution_count": 80,
   "id": "c864d464",
   "metadata": {},
   "outputs": [],
   "source": [
    "import geopandas as gpd\n",
    "import os\n",
    "import pandas as pd\n",
    "import subprocess\n",
    "import json\n",
    "import subprocess\n",
    "from google.protobuf import descriptor_pb2\n",
    "import importlib.util\n",
    "import shutil\n",
    "import glob"
   ]
  },
  {
   "cell_type": "code",
   "execution_count": 81,
   "id": "6fd40849",
   "metadata": {},
   "outputs": [],
   "source": [
    "DEST_DATA=\"../data/\"\n",
    "URL_SECTIONS = \"https://gis.comune.trento.it/dbexport?db=base&sc=demografici&ly=civici_elettorali&fr=shp\"\n",
    "URL_PREFERENCES_CANDIDATES = \"https://www.comune.trento.it/content/download/1582227/15012199/file/Preferenze.csv\"\n",
    "URL_PREFERENCES_GROUPS = \"https://www.comune.trento.it/content/download/1582230/15012211/file/Voti_Lista.csv\"\n",
    "URL_PREFERENCES_MAYORS = \"https://www.comune.trento.it/content/download/1582233/15012223/file/Voti_Sindaco.csv\"\n",
    "URL_DISTRICTS = \"https://gis.comune.trento.it/dbexport?db=base&sc=confini&ly=circoscrizioni&fr=shp\"\n",
    "if os.path.exists(DEST_DATA) == False:\n",
    "   os.mkdir(DEST_DATA) "
   ]
  },
  {
   "cell_type": "markdown",
   "id": "4c552be6",
   "metadata": {},
   "source": [
    "# Donwload"
   ]
  },
  {
   "cell_type": "code",
   "execution_count": 82,
   "id": "52ddfede",
   "metadata": {},
   "outputs": [],
   "source": [
    "sections = None\n",
    "file_sections = DEST_DATA + \"sezioni_elettorali.shp\"\n",
    "if os.path.exists(file_sections):\n",
    "    sections = gpd.read_file(file_sections)\n",
    "else:\n",
    "    sections = gpd.read_file(URL_SECTIONS)\n",
    "    sections.to_file(file_sections)"
   ]
  },
  {
   "cell_type": "code",
   "execution_count": 83,
   "id": "8cf06d8a",
   "metadata": {},
   "outputs": [
    {
     "data": {
      "text/html": [
       "<div>\n",
       "<style scoped>\n",
       "    .dataframe tbody tr th:only-of-type {\n",
       "        vertical-align: middle;\n",
       "    }\n",
       "\n",
       "    .dataframe tbody tr th {\n",
       "        vertical-align: top;\n",
       "    }\n",
       "\n",
       "    .dataframe thead th {\n",
       "        text-align: right;\n",
       "    }\n",
       "</style>\n",
       "<table border=\"1\" class=\"dataframe\">\n",
       "  <thead>\n",
       "    <tr style=\"text-align: right;\">\n",
       "      <th></th>\n",
       "      <th>vicodi</th>\n",
       "      <th>desvia</th>\n",
       "      <th>numero</th>\n",
       "      <th>barra</th>\n",
       "      <th>seg_elett</th>\n",
       "      <th>sez_elett</th>\n",
       "      <th>sede</th>\n",
       "      <th>chiave</th>\n",
       "      <th>civico_alf</th>\n",
       "      <th>geometry</th>\n",
       "    </tr>\n",
       "  </thead>\n",
       "  <tbody>\n",
       "    <tr>\n",
       "      <th>0</th>\n",
       "      <td>1125</td>\n",
       "      <td>VIA G. BARTALI</td>\n",
       "      <td>23</td>\n",
       "      <td>None</td>\n",
       "      <td>427</td>\n",
       "      <td>40</td>\n",
       "      <td>SCUOLA ELEMENTARE CLARINA</td>\n",
       "      <td>1125 23</td>\n",
       "      <td>23</td>\n",
       "      <td>POINT (664844.863 5100832.255)</td>\n",
       "    </tr>\n",
       "  </tbody>\n",
       "</table>\n",
       "</div>"
      ],
      "text/plain": [
       "   vicodi          desvia  numero barra  seg_elett  sez_elett  \\\n",
       "0    1125  VIA G. BARTALI      23  None        427         40   \n",
       "\n",
       "                        sede   chiave civico_alf  \\\n",
       "0  SCUOLA ELEMENTARE CLARINA  1125 23         23   \n",
       "\n",
       "                         geometry  \n",
       "0  POINT (664844.863 5100832.255)  "
      ]
     },
     "execution_count": 83,
     "metadata": {},
     "output_type": "execute_result"
    }
   ],
   "source": [
    "sections.head(1)"
   ]
  },
  {
   "cell_type": "code",
   "execution_count": 84,
   "id": "50b61113",
   "metadata": {},
   "outputs": [],
   "source": [
    "districts = None\n",
    "file_districts = \"circoscrizioni.shp\"\n",
    "if os.path.exists(file_districts):\n",
    "    districts = gpd.read_file(file_districts)\n",
    "else:\n",
    "    districts = gpd.read_file(URL_DISTRICTS)\n",
    "    districts.to_file(file_districts)"
   ]
  },
  {
   "cell_type": "code",
   "execution_count": 85,
   "id": "f4622991",
   "metadata": {},
   "outputs": [
    {
     "data": {
      "text/html": [
       "<div>\n",
       "<style scoped>\n",
       "    .dataframe tbody tr th:only-of-type {\n",
       "        vertical-align: middle;\n",
       "    }\n",
       "\n",
       "    .dataframe tbody tr th {\n",
       "        vertical-align: top;\n",
       "    }\n",
       "\n",
       "    .dataframe thead th {\n",
       "        text-align: right;\n",
       "    }\n",
       "</style>\n",
       "<table border=\"1\" class=\"dataframe\">\n",
       "  <thead>\n",
       "    <tr style=\"text-align: right;\">\n",
       "      <th></th>\n",
       "      <th>numero_cir</th>\n",
       "      <th>area</th>\n",
       "      <th>perimetro</th>\n",
       "      <th>nome</th>\n",
       "      <th>fumetto</th>\n",
       "      <th>geometry</th>\n",
       "    </tr>\n",
       "  </thead>\n",
       "  <tbody>\n",
       "    <tr>\n",
       "      <th>0</th>\n",
       "      <td>2</td>\n",
       "      <td>15712181</td>\n",
       "      <td>17850</td>\n",
       "      <td>MEANO</td>\n",
       "      <td>Circoscrizione n. 2 - MEANO</td>\n",
       "      <td>POLYGON ((666651.786 5109264.902, 666650.353 5...</td>\n",
       "    </tr>\n",
       "  </tbody>\n",
       "</table>\n",
       "</div>"
      ],
      "text/plain": [
       "   numero_cir      area  perimetro   nome                      fumetto  \\\n",
       "0           2  15712181      17850  MEANO  Circoscrizione n. 2 - MEANO   \n",
       "\n",
       "                                            geometry  \n",
       "0  POLYGON ((666651.786 5109264.902, 666650.353 5...  "
      ]
     },
     "execution_count": 85,
     "metadata": {},
     "output_type": "execute_result"
    }
   ],
   "source": [
    "districts.head(1)"
   ]
  },
  {
   "cell_type": "code",
   "execution_count": 86,
   "id": "c0e656e0",
   "metadata": {},
   "outputs": [],
   "source": [
    "preferences_candidates = None\n",
    "file_preferences_candidates = DEST_DATA + \"Preferenze.csv\"\n",
    "if os.path.exists(file_preferences_candidates):\n",
    "    preferences_candidates = pd.read_csv(file_preferences_candidates,sep=\";\",encoding=\"ISO-8859-15\")\n",
    "else:\n",
    "    preferences_candidates = pd.read_csv(URL_PREFERENCES_CANDIDATES,sep=\";\",encoding=\"ISO-8859-15\")\n",
    "    preferences_candidates.to_csv(file_preferences_candidates,sep=\";\",encoding=\"ISO-8859-15\",index=False)"
   ]
  },
  {
   "cell_type": "code",
   "execution_count": 87,
   "id": "7a530f79",
   "metadata": {},
   "outputs": [],
   "source": [
    "preferences_groups = None\n",
    "file_preferences_groups = DEST_DATA + \"Voti_Lista.csv\"\n",
    "if os.path.exists(file_preferences_groups):\n",
    "    preferences_groups = pd.read_csv(file_preferences_groups,sep=\";\",encoding=\"ISO-8859-15\")\n",
    "else:\n",
    "    preferences_groups = pd.read_csv(URL_PREFERENCES_GROUPS,sep=\";\",encoding=\"ISO-8859-15\")\n",
    "    preferences_groups.to_csv(file_preferences_groups,sep=\";\",encoding=\"ISO-8859-15\",index=False)"
   ]
  },
  {
   "cell_type": "code",
   "execution_count": 88,
   "id": "836129e6",
   "metadata": {},
   "outputs": [],
   "source": [
    "preferences_mayors = None\n",
    "file_preferences_mayors = DEST_DATA + \"Voti_Sindaco.csv\"\n",
    "if os.path.exists(file_preferences_mayors):\n",
    "    preferences_mayors = pd.read_csv(file_preferences_mayors,sep=\";\",encoding=\"ISO-8859-15\")\n",
    "else:\n",
    "    preferences_mayors = pd.read_csv(URL_PREFERENCES_MAYORS,sep=\";\",encoding=\"ISO-8859-15\")\n",
    "    preferences_mayors.to_csv(file_preferences_mayors,sep=\";\",encoding=\"ISO-8859-15\",index=False)"
   ]
  },
  {
   "cell_type": "markdown",
   "id": "17eefc1a",
   "metadata": {},
   "source": [
    "# Data preparation"
   ]
  },
  {
   "cell_type": "code",
   "execution_count": 89,
   "id": "b34f1442",
   "metadata": {},
   "outputs": [],
   "source": [
    "columns_districts = {\n",
    "    'numero_cir':'id_district',\n",
    "    'nome':'district'}\n",
    "districts.rename(columns=columns_districts,inplace=True)\n",
    "districts = districts[['id_district','district','geometry']].to_crs(epsg=4326)"
   ]
  },
  {
   "cell_type": "code",
   "execution_count": 90,
   "id": "bc62c253",
   "metadata": {},
   "outputs": [
    {
     "data": {
      "text/plain": [
       "Index(['id_district', 'district', 'geometry'], dtype='object')"
      ]
     },
     "execution_count": 90,
     "metadata": {},
     "output_type": "execute_result"
    }
   ],
   "source": [
    "districts.columns"
   ]
  },
  {
   "cell_type": "code",
   "execution_count": 91,
   "id": "d117ebef",
   "metadata": {},
   "outputs": [
    {
     "name": "stderr",
     "output_type": "stream",
     "text": [
      "/tmp/ipykernel_100126/3420336926.py:8: UserWarning: CRS mismatch between the CRS of left geometries and the CRS of right geometries.\n",
      "Use `to_crs()` to reproject one of the input geometries to match the CRS of the other.\n",
      "\n",
      "Left CRS: EPSG:25832\n",
      "Right CRS: EPSG:4326\n",
      "\n",
      "  sections = gpd.sjoin(sections, districts, how='left', predicate='within')\n"
     ]
    }
   ],
   "source": [
    "columns_sections =  {\n",
    "    \"sez_elett\": \"id_section\",\n",
    "    \"sede\":\"station\",\n",
    "    \"desvia\":\"streetname\",\n",
    "    \"civico_alf\":\"housenumber\"\n",
    "}\n",
    "sections.rename(columns=columns_sections,inplace=True)\n",
    "sections = gpd.sjoin(sections, districts, how='left', predicate='within')\n",
    "stations = sections[['id_section','station']].drop_duplicates().reset_index()[['id_section','station']]\n",
    "sections = sections[['id_district','district','id_section','station','streetname','housenumber','geometry']].to_crs(epsg=4326)\n"
   ]
  },
  {
   "cell_type": "code",
   "execution_count": 92,
   "id": "a46f6ff7",
   "metadata": {},
   "outputs": [],
   "source": [
    "stations = sections[['id_section','station']].drop_duplicates().reset_index()[['id_section','station']]\n"
   ]
  },
  {
   "cell_type": "code",
   "execution_count": 93,
   "id": "e6f5f74b",
   "metadata": {},
   "outputs": [],
   "source": [
    "preferences_columns = {\n",
    "    'Sezione':'id_section',\n",
    "    'Cod. circoscrizione':'id_district',\n",
    "    'Circoscrizione':'district',\n",
    "    'Nome Lista':'group',\n",
    "    'Cognome':'lastname',\n",
    "    'Nome':'name',\n",
    "    'Nome Detto':'nickname',\n",
    "    'Voti':'votes'\n",
    "}\n",
    "preferences_candidates.rename(columns=preferences_columns,inplace=True)\n"
   ]
  },
  {
   "cell_type": "code",
   "execution_count": 94,
   "id": "cdc5c612",
   "metadata": {},
   "outputs": [],
   "source": [
    "preferences_columns = {\n",
    "    'Sezione':'id_section',\n",
    "    'Cod. circoscrizione':'id_district',\n",
    "    'Circoscrizione':'district',\n",
    "    'Lista':'group',\n",
    "    'Sindaco':'supportedmayor',\n",
    "    'Voti':'votes'\n",
    "}\n",
    "preferences_groups.rename(columns=preferences_columns,inplace=True)\n",
    "preferences_groups = preferences_groups.dropna(subset=['supportedmayor'])"
   ]
  },
  {
   "cell_type": "code",
   "execution_count": 95,
   "id": "6639b46b",
   "metadata": {
    "vscode": {
     "languageId": "ruby"
    }
   },
   "outputs": [],
   "source": [
    "preferences_groups['id_section'] = preferences_groups['id_section'].fillna(-1)\n",
    "preferences_groups['id_section'] = preferences_groups['id_section'].astype(int)\n",
    "preferences_groups['id_district'] = preferences_groups['id_district'].fillna(-1)\n",
    "preferences_groups['id_district'] = preferences_groups['id_district'].astype(int)"
   ]
  },
  {
   "cell_type": "code",
   "execution_count": 96,
   "id": "92dd008d",
   "metadata": {},
   "outputs": [],
   "source": [
    "preferences_candidates = preferences_candidates.merge(\n",
    "    preferences_groups[['group', 'supportedmayor']].drop_duplicates(),\n",
    "    on='group',\n",
    "    how='left'\n",
    ")"
   ]
  },
  {
   "cell_type": "code",
   "execution_count": 97,
   "id": "8af729aa",
   "metadata": {},
   "outputs": [],
   "source": [
    "preferences_candidates = preferences_candidates[[\n",
    "    'id_section','id_district','district','supportedmayor',\n",
    "    'group','lastname','name','nickname','votes']]\n",
    "preferences_candidates['nickname'] = preferences_candidates['nickname'].fillna(\"\")"
   ]
  },
  {
   "cell_type": "code",
   "execution_count": 98,
   "id": "ad2395cb",
   "metadata": {},
   "outputs": [],
   "source": [
    "preferences_columns = {\n",
    "    \"Sezione\":\"id_section\",\n",
    "    \"Cod. circoscrizione\":\"id_district\",\n",
    "    \"Circoscrizione\":\"district\",\n",
    "    \"Schede Bianche\":\"blanks\",\n",
    "    \"Schede nulle o contenenti solo voti nulli\":\"canceled\",\n",
    "    \"Voti contestati e non attribuiti\":\"disputed\",\n",
    "    \"Cognome\":\"lastname\",\n",
    "    \"Nome\":\"name\",\n",
    "    \"Voti\":\"votes\"\n",
    "}\n",
    "preferences_mayors.rename(columns=preferences_columns,inplace=True)"
   ]
  },
  {
   "cell_type": "markdown",
   "id": "83836eb6",
   "metadata": {},
   "source": [
    "# Export data"
   ]
  },
  {
   "cell_type": "code",
   "execution_count": 99,
   "id": "126fb8ce",
   "metadata": {},
   "outputs": [],
   "source": [
    "def to_json(df,filename):\n",
    "    records = df.to_dict(orient=\"records\")\n",
    "    json_output = json.dumps(records, indent=2)\n",
    "    # Salva il file JSON\n",
    "    json_path = filename\n",
    "    with open(json_path, \"w\", encoding=\"utf-8\") as f:\n",
    "        f.write(json_output)\n",
    "    json_path"
   ]
  },
  {
   "cell_type": "code",
   "execution_count": 100,
   "id": "85373bca",
   "metadata": {},
   "outputs": [],
   "source": [
    "districts.to_file(DEST_DATA + \"districts.geojson\",driver=\"GeoJSON\",encoding=\"utf-8\")"
   ]
  },
  {
   "cell_type": "code",
   "execution_count": 101,
   "id": "45fef3a5",
   "metadata": {},
   "outputs": [],
   "source": [
    "sections.to_file(DEST_DATA + \"sections.geojson\",driver=\"GeoJSON\",encoding=\"utf-8\")"
   ]
  },
  {
   "cell_type": "code",
   "execution_count": 102,
   "id": "f455ab0d",
   "metadata": {},
   "outputs": [],
   "source": [
    "stations.to_csv(DEST_DATA + \"stations.csv\",index=False,encoding=\"utf-8\")\n",
    "to_json(stations,DEST_DATA + \"stations.json\")"
   ]
  },
  {
   "cell_type": "code",
   "execution_count": 103,
   "id": "9ad34414",
   "metadata": {},
   "outputs": [],
   "source": [
    "preferences_candidates.to_csv(DEST_DATA + 'preferences_candidates.csv',index=False,encoding=\"utf-8\")\n",
    "to_json(preferences_candidates,DEST_DATA + \"preferences_candidates.json\")"
   ]
  },
  {
   "cell_type": "code",
   "execution_count": 104,
   "id": "d42b96e0",
   "metadata": {},
   "outputs": [],
   "source": [
    "preferences_groups.to_csv(DEST_DATA + 'preferences_groups.csv',index=False,encoding=\"utf-8\")\n",
    "to_json(preferences_groups,DEST_DATA + \"preferences_groups.json\")"
   ]
  },
  {
   "cell_type": "code",
   "execution_count": 105,
   "id": "76f25308",
   "metadata": {},
   "outputs": [],
   "source": [
    "preferences_mayors.to_csv(DEST_DATA + 'preferences_mayors.csv',index=False,encoding=\"utf-8\")\n",
    "to_json(preferences_mayors,DEST_DATA + \"preferences_mayors.json\")"
   ]
  },
  {
   "cell_type": "markdown",
   "id": "055ee875",
   "metadata": {},
   "source": [
    "# PMTiles"
   ]
  },
  {
   "cell_type": "code",
   "execution_count": 106,
   "id": "5d6e910c",
   "metadata": {},
   "outputs": [],
   "source": [
    "geojson_file = DEST_DATA + 'sections.geojson'\n",
    "mbtiles_file = DEST_DATA + 'sections.mbtiles'\n",
    "tippecanoe = [\n",
    "    \"tippecanoe\",\n",
    "    \"--force\",\n",
    "    \"-o\", mbtiles_file,\n",
    "    \"-l\", \"sections\",\n",
    "    \"-pC\",\n",
    "    \"-z20\",\n",
    "    \"-Z10\",\n",
    "    \"-r1\",\n",
    "    \"--no-feature-limit\",\n",
    "    \"--no-tile-size-limit\",\n",
    "    geojson_file\n",
    "]\n",
    "\n",
    "result = subprocess.run(tippecanoe, capture_output=True, text=True)"
   ]
  },
  {
   "cell_type": "code",
   "execution_count": 107,
   "id": "f7e3b7e3",
   "metadata": {},
   "outputs": [],
   "source": [
    "geojson_file = DEST_DATA + 'districts.geojson'\n",
    "mbtiles_file = DEST_DATA + 'districts.mbtiles'\n",
    "tippecanoe = [\n",
    "    \"tippecanoe\",\n",
    "    \"--force\",\n",
    "    \"-o\", mbtiles_file,\n",
    "    \"-l\", \"districts\",\n",
    "    \"-pC\",\n",
    "    \"-z20\",\n",
    "    \"-Z10\",\n",
    "    \"-r1\",\n",
    "    \"--no-feature-limit\",\n",
    "    \"--no-tile-size-limit\",\n",
    "    geojson_file\n",
    "]\n",
    "\n",
    "result = subprocess.run(tippecanoe, capture_output=True, text=True)"
   ]
  },
  {
   "cell_type": "code",
   "execution_count": 108,
   "id": "403b1c1f",
   "metadata": {},
   "outputs": [],
   "source": [
    "mbtiles_file = DEST_DATA + 'sections.mbtiles'\n",
    "pmtiles_file = DEST_DATA + \"sections.pmtiles\"\n",
    "\n",
    "pmtiles = [\n",
    "    \"pmtiles\", \"convert\",\n",
    "    mbtiles_file,\n",
    "    pmtiles_file\n",
    "]\n",
    "\n",
    "result = subprocess.run(pmtiles, capture_output=True, text=True)\n"
   ]
  },
  {
   "cell_type": "code",
   "execution_count": 109,
   "id": "c9920ee8",
   "metadata": {},
   "outputs": [],
   "source": [
    "mbtiles_file = DEST_DATA + 'districts.mbtiles'\n",
    "pmtiles_file = DEST_DATA + \"districts.pmtiles\"\n",
    "\n",
    "pmtiles = [\n",
    "    \"pmtiles\", \"convert\",\n",
    "    mbtiles_file,\n",
    "    pmtiles_file\n",
    "]\n",
    "\n",
    "result = subprocess.run(pmtiles, capture_output=True, text=True)"
   ]
  },
  {
   "cell_type": "markdown",
   "id": "5973b5ff",
   "metadata": {},
   "source": [
    "# Data in PBF"
   ]
  },
  {
   "cell_type": "code",
   "execution_count": 110,
   "id": "9744b3cb",
   "metadata": {},
   "outputs": [],
   "source": [
    "def json_to_pbf(json_path):\n",
    "    # Derive filenames based on input JSON\n",
    "    base_name = os.path.splitext(os.path.basename(json_path))[0]\n",
    "    proto_file = f\"{base_name}.proto\"\n",
    "    pb_py_file = f\"{base_name}_pb2.py\"\n",
    "    pbf_file = f\"{base_name}.pbf\"\n",
    "\n",
    "    # Remove existing files if present\n",
    "    for path in [proto_file, pb_py_file, pbf_file]:\n",
    "        if os.path.exists(path):\n",
    "            os.remove(path)\n",
    "\n",
    "    # Step 1 – Load JSON data\n",
    "    with open(json_path, \"r\", encoding=\"utf-8\") as f:\n",
    "        data = json.load(f)\n",
    "\n",
    "    if not isinstance(data, list) or not data:\n",
    "        raise ValueError(\"The JSON file must contain a non-empty list of objects.\")\n",
    "\n",
    "    sample = data[0]\n",
    "\n",
    "    # Map Python types to Protobuf types\n",
    "    def infer_type(value):\n",
    "        if isinstance(value, int):\n",
    "            return \"int32\"\n",
    "        elif isinstance(value, float):\n",
    "            return \"float\"\n",
    "        elif isinstance(value, bool):\n",
    "            return \"bool\"\n",
    "        else:\n",
    "            return \"string\"\n",
    "\n",
    "    msg_name = base_name.capitalize()\n",
    "    proto_lines = [\n",
    "        'syntax = \"proto3\";\\n',\n",
    "        f'message {msg_name} {{\\n'\n",
    "    ]\n",
    "    for idx, (key, value) in enumerate(sample.items(), start=1):\n",
    "        field_type = infer_type(value)\n",
    "        proto_lines.append(f\"  {field_type} {key} = {idx};\\n\")\n",
    "    proto_lines.append(\"}\\n\\n\")\n",
    "    proto_lines.append(f\"message {msg_name}List {{\\n\")\n",
    "    proto_lines.append(f\"  repeated {msg_name} items = 1;\\n\")\n",
    "    proto_lines.append(\"}\\n\")\n",
    "\n",
    "    with open(proto_file, \"w\", encoding=\"utf-8\") as f:\n",
    "        f.writelines(proto_lines)\n",
    "\n",
    "    # Step 3 – Compile the .proto file\n",
    "    subprocess.run([\"protoc\", f\"--python_out=.\", proto_file], check=True)\n",
    "\n",
    "    # Step 4 – Dynamically import the compiled Python module\n",
    "    spec = importlib.util.spec_from_file_location(f\"{base_name}_pb2\", f\"./{base_name}_pb2.py\")\n",
    "    pb_module = importlib.util.module_from_spec(spec)\n",
    "    spec.loader.exec_module(pb_module)\n",
    "\n",
    "    MsgClass = getattr(pb_module, msg_name)\n",
    "    ContainerClass = getattr(pb_module, f\"{msg_name}List\")\n",
    "\n",
    "    # Step 5 – Populate Protobuf container and write to .pbf\n",
    "    container = ContainerClass()\n",
    "    for item in data:\n",
    "        entry = container.items.add()\n",
    "        for key, value in item.items():\n",
    "            setattr(entry, key, value)\n",
    "\n",
    "    with open(pbf_file, \"wb\") as f:\n",
    "        f.write(container.SerializeToString())\n",
    "\n",
    "    return pbf_file"
   ]
  },
  {
   "cell_type": "code",
   "execution_count": 111,
   "id": "bb597570",
   "metadata": {},
   "outputs": [],
   "source": [
    "out = json_to_pbf(DEST_DATA + \"preferences_candidates.json\")"
   ]
  },
  {
   "cell_type": "code",
   "execution_count": 112,
   "id": "fe904308",
   "metadata": {},
   "outputs": [],
   "source": [
    "out = json_to_pbf(DEST_DATA + \"preferences_mayors.json\")"
   ]
  },
  {
   "cell_type": "code",
   "execution_count": 113,
   "id": "ed4b0588",
   "metadata": {},
   "outputs": [],
   "source": [
    "out = json_to_pbf(DEST_DATA + \"preferences_groups.json\")"
   ]
  },
  {
   "cell_type": "code",
   "execution_count": 114,
   "id": "d077ca4a",
   "metadata": {},
   "outputs": [],
   "source": [
    "out = json_to_pbf(DEST_DATA + \"stations.json\")"
   ]
  },
  {
   "cell_type": "code",
   "execution_count": 115,
   "id": "9a6c2ac2",
   "metadata": {},
   "outputs": [],
   "source": [
    "for proto_file in glob.glob(\"*.proto\"):\n",
    "    shutil.copy(proto_file, DEST_DATA)"
   ]
  },
  {
   "cell_type": "code",
   "execution_count": 116,
   "id": "280a052f",
   "metadata": {},
   "outputs": [],
   "source": [
    "for proto_file in glob.glob(\"*.pbf\"):\n",
    "    shutil.copy(proto_file, DEST_DATA)"
   ]
  },
  {
   "cell_type": "markdown",
   "id": "c480cfc5",
   "metadata": {},
   "source": [
    "# Testing data"
   ]
  },
  {
   "cell_type": "code",
   "execution_count": 117,
   "id": "28c5d6b9",
   "metadata": {},
   "outputs": [],
   "source": [
    "from fuzzywuzzy import process\n",
    "\n",
    "def get_section_code(address, housenumber):\n",
    "    # Estrai il nome della via dall'indirizzo\n",
    "    streetname = address.upper()\n",
    "    \n",
    "    # Trova la via più simile in sections\n",
    "    best_match = process.extractOne(streetname, sections['streetname'])\n",
    "    \n",
    "    if best_match:\n",
    "        matched_street = best_match[0]\n",
    "        # Filtra per via e numero civico\n",
    "        result = sections[(sections['streetname'] == matched_street) & (sections['housenumber'] == housenumber)]\n",
    "        if not result.empty:\n",
    "            return result.iloc[0]['id_section']\n",
    "    return None\n",
    "\n",
    "def get_votes_by_candidate_and_section(first_name, last_name, section_id):\n",
    "    # Filtra il dataframe preferences_candidates per nome, cognome e id_section\n",
    "    filtered = preferences_candidates[\n",
    "        (preferences_candidates['name'] == first_name.upper()) &\n",
    "        (preferences_candidates['lastname'] == last_name.upper()) &\n",
    "        (preferences_candidates['id_section'] == section_id)\n",
    "    ]\n",
    "    \n",
    "    # Restituisci il numero di voti se esiste una corrispondenza\n",
    "    if not filtered.empty:\n",
    "        return filtered.iloc[0]['votes']\n",
    "    return 0\n"
   ]
  },
  {
   "cell_type": "code",
   "execution_count": null,
   "id": "9ff1ef76",
   "metadata": {},
   "outputs": [
    {
     "name": "stdout",
     "output_type": "stream",
     "text": [
      "Numero di voti per Maurizio Napolitano nella sezione 68: 2\n"
     ]
    }
   ],
   "source": [
    "first_name = \"Maurizio\"\n",
    "last_name = \"Napolitano\"\n",
    "address = \"\"\n",
    "housenumber = \"1\"\n",
    "section_id = get_section_code(address, housenumber)\n",
    "votes = get_votes_by_candidate_and_section(first_name, last_name, section_id)\n",
    "print(f\"Numero di voti per {first_name} {last_name} nella sezione {section_id}: {votes}\")"
   ]
  },
  {
   "cell_type": "code",
   "execution_count": 122,
   "id": "34763d31",
   "metadata": {},
   "outputs": [
    {
     "data": {
      "text/html": [
       "<div>\n",
       "<style scoped>\n",
       "    .dataframe tbody tr th:only-of-type {\n",
       "        vertical-align: middle;\n",
       "    }\n",
       "\n",
       "    .dataframe tbody tr th {\n",
       "        vertical-align: top;\n",
       "    }\n",
       "\n",
       "    .dataframe thead th {\n",
       "        text-align: right;\n",
       "    }\n",
       "</style>\n",
       "<table border=\"1\" class=\"dataframe\">\n",
       "  <thead>\n",
       "    <tr style=\"text-align: right;\">\n",
       "      <th></th>\n",
       "      <th>id_section</th>\n",
       "      <th>id_district</th>\n",
       "      <th>district</th>\n",
       "      <th>supportedmayor</th>\n",
       "      <th>group</th>\n",
       "      <th>lastname</th>\n",
       "      <th>name</th>\n",
       "      <th>nickname</th>\n",
       "      <th>votes</th>\n",
       "    </tr>\n",
       "  </thead>\n",
       "  <tbody>\n",
       "    <tr>\n",
       "      <th>39166</th>\n",
       "      <td>68</td>\n",
       "      <td>6</td>\n",
       "      <td>ARGENTARIO</td>\n",
       "      <td>IANESELLI FRANCO</td>\n",
       "      <td>INSIEME PER TRENTO</td>\n",
       "      <td>NAPOLITANO</td>\n",
       "      <td>MAURIZIO</td>\n",
       "      <td></td>\n",
       "      <td>2</td>\n",
       "    </tr>\n",
       "  </tbody>\n",
       "</table>\n",
       "</div>"
      ],
      "text/plain": [
       "       id_section  id_district    district    supportedmayor  \\\n",
       "39166          68            6  ARGENTARIO  IANESELLI FRANCO   \n",
       "\n",
       "                    group    lastname      name nickname  votes  \n",
       "39166  INSIEME PER TRENTO  NAPOLITANO  MAURIZIO               2  "
      ]
     },
     "execution_count": 122,
     "metadata": {},
     "output_type": "execute_result"
    }
   ],
   "source": [
    "preferences_candidates[(preferences_candidates.lastname == \"NAPOLITANO\") &\n",
    "                       (preferences_candidates.id_section == section_id)]"
   ]
  }
 ],
 "metadata": {
  "kernelspec": {
   "display_name": "Python 3",
   "language": "python",
   "name": "python3"
  },
  "language_info": {
   "codemirror_mode": {
    "name": "ipython",
    "version": 3
   },
   "file_extension": ".py",
   "mimetype": "text/x-python",
   "name": "python",
   "nbconvert_exporter": "python",
   "pygments_lexer": "ipython3",
   "version": "3.12.7"
  }
 },
 "nbformat": 4,
 "nbformat_minor": 5
}
